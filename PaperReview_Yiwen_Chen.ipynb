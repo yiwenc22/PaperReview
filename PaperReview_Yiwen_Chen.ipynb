{
 "cells": [
  {
   "cell_type": "markdown",
   "id": "9204a7d5",
   "metadata": {},
   "source": [
    "# Paper Title:  Let's build Bridges, not Walls: SPARQL Querying of TinkerPop Graph Databases with Sparql-Gremlin \n",
    "Link: (https://ieeexplore-ieee-org.eres.library.manoa.hawaii.edu/stamp/stamp.jsp?tp=&arnumber=9031506)"
   ]
  },
  {
   "cell_type": "markdown",
   "id": "ea13d443",
   "metadata": {},
   "source": [
    "#### 2020 IEEE 14th International Conference on Semantic Computing  on 12 March 2020\n",
    "Harsh Thakkar - OSTHUS GmbH, Germany\n",
    "Renzo Angles - OSTHUS GmbH, Germany\n",
    "Marko Rodriguez and Stephen Mallette - Apache TinkerPop, USA\n",
    "Jens Lehmann - University of Bonn, Germany"
   ]
  },
  {
   "cell_type": "markdown",
   "id": "06ac2975",
   "metadata": {},
   "source": [
    "## Brief Summary\n",
    "The tool \"sparql-gremlin\" is created to translate SPARQL queries to Gremilin pattern matching travesals. The sparql-gremlin allow users to run queries expressed in the W3C SPARQL query language over wide variety of graph data management system (OLTP and OLAP). As of the time of the paper, sparql-gremlin is only a plugin of the apache ThinkerPop graph computing framework."
   ]
  },
  {
   "cell_type": "markdown",
   "id": "365645c9",
   "metadata": {},
   "source": [
    "## What was the Problem?\n",
    "**Main Problem : SPARQL and Gremlin lack interoperability**\n",
    "- Knowledge graphs have become increasingly popular\n",
    "- Property Graphs (PG) vs W3C Resource Description Framework (RDF)\n",
    "- RDF is suited for distributed\n",
    "data integration with built-in world-wide unique identifiers\n",
    "and vocabularies\n",
    "- PGs on the other hand support horizontally\n",
    "scalable storage and querying, and are widely used for modern\n",
    "data analytics applications.\n",
    "- Standard query language for RDF databases is SPARQL, whereas PG databases is Gremline traversal language\n",
    "\n",
    "## What is the Solution\n",
    "**Solution : Creating a that allows the execution of SPARQL queries over graph databases by translating them to Gremilin travesals (sparql-gremlin)**\n",
    "\n",
    "## Motivation & Goal \n",
    "**Motivation: It will help users creating knowledge graph more easier and it one of the first formally published work that address the query interoperability issue between SPARQL and PG query laguage**\n",
    "\n",
    "\n",
    "**Goal: present a novel method to execute SPARQL queries\n",
    "over Property graph databases by translating them to\n",
    "Gremlin pattern matching traversals.**"
   ]
  },
  {
   "cell_type": "markdown",
   "id": "f226028a",
   "metadata": {},
   "source": []
  },
  {
   "cell_type": "markdown",
   "id": "c0d855a3",
   "metadata": {},
   "source": [
    "Documentation There should be sufficient documentation for you, the reviewer to understand the core functionality of the software under review.\n",
    "\n",
    "A statement of need The authors should clearly state what problems the software is designed to solve and who the target audience is.\n",
    "\n",
    "Installation instructions There should be a clearly-stated list of dependencies. Ideally these should be handled with an automated package management solution.\n",
    "\n",
    "Good: A package management file such as a Gemfile or package.json or > equivalent\n",
    "OK: A list of dependencies to install\n",
    "Bad (not acceptable): Reliance on other software not listed by the authors\n",
    "Example usage The authors should include examples of how to use the software (ideally to solve real-world analysis problems).\n",
    "\n",
    "API documentation Reviewers should check that the software API is documented to a suitable level. This decision is left largely to the discretion of the reviewer and their experience of evaluating the software. [...]\n",
    "\n",
    "Tests Authors are strongly encouraged to include an automated test suite covering the core functionality of their software.\n",
    "\n",
    "Good: An automated test suite hooked up to an external service such as Travis-CI or similar\n",
    "OK: Documented manual steps that can be followed to check the expected functionality of the software (e.g. a sample input file to assert behaviour)\n",
    "Bad (not acceptable): No way for you the reviewer to check whether the software works\n",
    "Community guidelines There should be clear guidelines for third-parties wishing to: Contribute to the software, report issues or problems with the software, or seek support"
   ]
  },
  {
   "cell_type": "markdown",
   "id": "a65c040c",
   "metadata": {},
   "source": [
    "ICS 691Paper Review\n",
    "As part of this course, you need to contribute a review of a big data paper, tool, or topic of your choice. This final project needs to incorporate concepts covered in class, such as processing large data in a distributed environment, analysis to gain insight, and visualization to communicate your insight.\n",
    "\n",
    "\n",
    "As part of this course, you are expected to submit a review of a big data research project, a tool, or a framework in the form of a tutorial. The review should examine methods related to a big data topic, preferably ones not covered in class, and should present the methods in a practical format in a preconfigured Docker environment with code samples and scripts, and commands. \n",
    "\n",
    "For example, if you were reviewing the FIASS library (https://arxiv.org/abs/1702.08734), you are expected to provide an example of using FAISS to query nearest neighbors using different indexes on a sample dataset. The tutorial should also cover some of the algorithms and data structure underlying how the search is conducted using the various indexes, such as product quantization and Hierarchical Navigable Small Worlds. \n",
    "\n",
    "You are encouraged to review any tool, library, or project of your choice, however, the following topics are perhaps of relevance or complement what was covered in class.\n",
    "\n",
    "PyTorch Distributed Data Parallel Algorithm (https://arxiv.org/abs/2006.15704)\n",
    "Weaviate (https://github.com/semi-technologies/weaviate)\n",
    "Ray (https://github.com/ray-project/ray, https://www.usenix.org/system/files/osdi18-moritz.pdf)\n",
    "Apache Tinkerpop (https://tinkerpop.apache.org/index.html, https://ieeexplore.ieee.org/abstract/document/9031506)\n",
    "NoSQL Stores (https://dl.acm.org/doi/abs/10.1145/3158661)\n",
    "\n",
    "\n",
    "\n",
    "Your deliverable should be a Jupyter notebook and, if you are evaluating a  framework, a docker instance (or a link to an existing one) with all the dependencies installed. The notebook should be self contained and provide installation code, link to data if applicable, sample code to interact with the tools or framework used, and text introducing the methods.\n"
   ]
  },
  {
   "cell_type": "code",
   "execution_count": 1,
   "id": "eed14b02",
   "metadata": {},
   "outputs": [],
   "source": [
    "from gremlin_python.process.anonymous_traversal import traversal\n",
    "from gremlin_python.driver.driver_remote_connection import DriverRemoteConnection\n",
    "g = traversal().withRemote(DriverRemoteConnection('ws://localhost:8182/gremlin','g'))"
   ]
  },
  {
   "cell_type": "code",
   "execution_count": 3,
   "id": "19c7782f",
   "metadata": {},
   "outputs": [
    {
     "data": {
      "text/plain": [
       "[['V'], ['values', '_ipython_canary_method_should_not_exist_'], ['values', '_ipython_canary_method_should_not_exist_']]"
      ]
     },
     "execution_count": 3,
     "metadata": {},
     "output_type": "execute_result"
    }
   ],
   "source": [
    "g.V()"
   ]
  },
  {
   "cell_type": "code",
   "execution_count": null,
   "id": "a426e5c9",
   "metadata": {},
   "outputs": [],
   "source": []
  },
  {
   "cell_type": "code",
   "execution_count": null,
   "id": "624359af",
   "metadata": {},
   "outputs": [],
   "source": []
  }
 ],
 "metadata": {
  "kernelspec": {
   "display_name": "Python 3 (ipykernel)",
   "language": "python",
   "name": "python3"
  },
  "language_info": {
   "codemirror_mode": {
    "name": "ipython",
    "version": 3
   },
   "file_extension": ".py",
   "mimetype": "text/x-python",
   "name": "python",
   "nbconvert_exporter": "python",
   "pygments_lexer": "ipython3",
   "version": "3.9.13"
  }
 },
 "nbformat": 4,
 "nbformat_minor": 5
}
